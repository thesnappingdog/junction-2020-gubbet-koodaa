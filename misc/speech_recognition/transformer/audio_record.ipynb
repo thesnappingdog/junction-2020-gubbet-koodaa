{
 "cells": [
  {
   "cell_type": "code",
   "execution_count": 1,
   "metadata": {},
   "outputs": [
    {
     "name": "stderr",
     "output_type": "stream",
     "text": [
      "/Users/juliushietala/opt/anaconda3/envs/junction20/lib/python3.9/site-packages/torchaudio/backend/utils.py:53: UserWarning: \"sox\" backend is being deprecated. The default backend will be changed to \"sox_io\" backend in 0.8.0 and \"sox\" backend will be removed in 0.9.0. Please migrate to \"sox_io\" backend. Please refer to https://github.com/pytorch/audio/issues/903 for the detail.\n",
      "  warnings.warn(\n"
     ]
    }
   ],
   "source": [
    "import sounddevice as sd\n",
    "import torchaudio\n",
    "import torch\n",
    "import matplotlib.pyplot as plt\n",
    "from transformer_model import TransformerModel"
   ]
  },
  {
   "cell_type": "code",
   "execution_count": 2,
   "metadata": {},
   "outputs": [],
   "source": [
    "batch_size = 1\n",
    "bptt = 80\n",
    "\n",
    "ntoken_embedding = None #len(TEXT.vocab.stoi) # the size of vocabulary # AMOUNT OF COMMANDS\n",
    "embedding_size = 24 # embedding dimension\n",
    "nhid = 256 # the dimension of the feedforward network model in nn.TransformerEncoder\n",
    "nlayers = 6 # the number of nn.TransformerEncoderLayer in nn.TransformerEncoder\n",
    "nhead = 8 # the number of heads in the multiheadattention models\n",
    "dropout = 0.2\n",
    "    \n",
    "model = TransformerModel(ntoken_embedding, embedding_size, nhead, nhid, nlayers, n_outputs=30, ready_embedding=True, dropout=0.2, bptt=bptt)\n",
    "model.load_state_dict(torch.load(\"/Users/juliushietala/junction_2020/junction-2020-gubbet-koodaa/speech_recognition/transformer/best_model_eval_100noise.mdl\", map_location=torch.device('cpu')))\n",
    "src_mask = model.generate_square_subsequent_mask(80)"
   ]
  },
  {
   "cell_type": "code",
   "execution_count": 3,
   "metadata": {},
   "outputs": [
    {
     "name": "stdout",
     "output_type": "stream",
     "text": [
      "myrec (16000, 1)\n"
     ]
    },
    {
     "name": "stderr",
     "output_type": "stream",
     "text": [
      "/Users/juliushietala/opt/anaconda3/envs/junction20/lib/python3.9/site-packages/torchaudio/compliance/kaldi.py:574: UserWarning: The function torch.rfft is deprecated and will be removed in a future PyTorch release. Use the new torch.fft module functions, instead, by importing torch.fft and calling torch.fft.fft or torch.fft.rfft. (Triggered internally at  ../aten/src/ATen/native/SpectralOps.cpp:590.)\n",
      "  fft = torch.rfft(strided_input, 1, normalized=False, onesided=True)\n"
     ]
    },
    {
     "name": "stdout",
     "output_type": "stream",
     "text": [
      "unknown\n"
     ]
    },
    {
     "data": {
      "image/png": "[encoded data removed]",
      "text/plain": [
       "<Figure size 432x288 with 1 Axes>"
      ]
     },
     "metadata": {
      "needs_background": "light"
     },
     "output_type": "display_data"
    },
    {
     "data": {
      "image/png": "[encoded data removed]",
      "text/plain": [
       "<Figure size 432x288 with 1 Axes>"
      ]
     },
     "metadata": {
      "needs_background": "light"
     },
     "output_type": "display_data"
    }
   ],
   "source": [
    "duration = 1  # seconds\n",
    "fs = 44100\n",
    "fs = 48000\n",
    "fs = 16000\n",
    "myrecording = sd.rec(duration*fs, dtype='int16', samplerate=fs, channels=1)\n",
    "sd.wait()\n",
    "print(\"myrec\", myrecording.shape)\n",
    "sd.play(myrecording, samplerate=fs)\n",
    "waveform = torch.tensor(myrecording, dtype=torch.float32)\n",
    "#print(at.size())\n",
    "plt.plot(waveform.numpy()/torch.max(waveform));\n",
    "waveform = waveform.t() / torch.max(waveform)\n",
    "sample_rate = fs\n",
    "n_fft = 400.0\n",
    "frame_length = n_fft / sample_rate * 1000.0\n",
    "frame_shift = frame_length / 2.0\n",
    "#hamming, hanning, povey (default), rectangular, blackman\n",
    "params = {\n",
    "    \"channel\": 0,\n",
    "    \"dither\": 0.0,\n",
    "    \"window_type\": \"hanning\",\n",
    "    \"frame_length\": frame_length,\n",
    "    \"frame_shift\": frame_shift,\n",
    "    \"remove_dc_offset\": True,\n",
    "    \"round_to_power_of_two\": True,\n",
    "    \"sample_frequency\": sample_rate,\n",
    "    \"num_mel_bins\": 24\n",
    "}\n",
    "\n",
    "fbank = torchaudio.compliance.kaldi.fbank(waveform, **params)\n",
    "\n",
    "#print(\"Shape of fbank: {}\".format(fbank.size()))\n",
    "\n",
    "plt.figure()\n",
    "plt.imshow(fbank.t().numpy(), cmap='gray');\n",
    "data = torch.zeros((80,24))\n",
    "data[:79,:] = fbank\n",
    "data = data.view((80,1,24))\n",
    "pred = model(data, src_mask)\n",
    "pred_idx = torch.argmax(pred)\n",
    "desired_labels = ['up', \"down\", \"left\", \"right\", \"unknown\"]\n",
    "print(desired_labels[pred_idx])"
   ]
  },
  {
   "cell_type": "code",
   "execution_count": 8,
   "metadata": {},
   "outputs": [
    {
     "name": "stdout",
     "output_type": "stream",
     "text": [
      "left\n"
     ]
    },
    {
     "ename": "KeyboardInterrupt",
     "evalue": "",
     "output_type": "error",
     "traceback": [
      "\u001b[0;31m---------------------------------------------------------------------------\u001b[0m",
      "\u001b[0;31mKeyboardInterrupt\u001b[0m                         Traceback (most recent call last)",
      "\u001b[0;32m<ipython-input-8-3876986c05a5>\u001b[0m in \u001b[0;36m<module>\u001b[0;34m\u001b[0m\n\u001b[1;32m     40\u001b[0m \u001b[0;32mwith\u001b[0m \u001b[0msd\u001b[0m\u001b[0;34m.\u001b[0m\u001b[0mInputStream\u001b[0m\u001b[0;34m(\u001b[0m\u001b[0mchannels\u001b[0m\u001b[0;34m=\u001b[0m\u001b[0;36m1\u001b[0m\u001b[0;34m,\u001b[0m \u001b[0mdtype\u001b[0m\u001b[0;34m=\u001b[0m\u001b[0;34m'int16'\u001b[0m\u001b[0;34m,\u001b[0m \u001b[0mblocksize\u001b[0m\u001b[0;34m=\u001b[0m\u001b[0;36m5000\u001b[0m\u001b[0;34m,\u001b[0m \u001b[0msamplerate\u001b[0m\u001b[0;34m=\u001b[0m\u001b[0mfs\u001b[0m\u001b[0;34m,\u001b[0m \u001b[0mcallback\u001b[0m\u001b[0;34m=\u001b[0m\u001b[0mcallback\u001b[0m\u001b[0;34m)\u001b[0m\u001b[0;34m:\u001b[0m\u001b[0;34m\u001b[0m\u001b[0;34m\u001b[0m\u001b[0m\n\u001b[1;32m     41\u001b[0m \u001b[0;34m\u001b[0m\u001b[0m\n\u001b[0;32m---> 42\u001b[0;31m     \u001b[0msd\u001b[0m\u001b[0;34m.\u001b[0m\u001b[0msleep\u001b[0m\u001b[0;34m(\u001b[0m\u001b[0;36m1000000\u001b[0m\u001b[0;34m)\u001b[0m\u001b[0;34m\u001b[0m\u001b[0;34m\u001b[0m\u001b[0m\n\u001b[0m\u001b[1;32m     43\u001b[0m \u001b[0;34m\u001b[0m\u001b[0m\n\u001b[1;32m     44\u001b[0m \u001b[0mprint\u001b[0m\u001b[0;34m(\u001b[0m\u001b[0;34m\"Took:\"\u001b[0m\u001b[0;34m,\u001b[0m \u001b[0mtime\u001b[0m\u001b[0;34m.\u001b[0m\u001b[0mtime\u001b[0m\u001b[0;34m(\u001b[0m\u001b[0;34m)\u001b[0m \u001b[0;34m-\u001b[0m \u001b[0mstart_time\u001b[0m\u001b[0;34m)\u001b[0m\u001b[0;34m\u001b[0m\u001b[0;34m\u001b[0m\u001b[0m\n",
      "\u001b[0;32m~/opt/anaconda3/envs/junction20/lib/python3.9/site-packages/sounddevice.py\u001b[0m in \u001b[0;36msleep\u001b[0;34m(msec)\u001b[0m\n\u001b[1;32m    699\u001b[0m \u001b[0;34m\u001b[0m\u001b[0m\n\u001b[1;32m    700\u001b[0m     \"\"\"\n\u001b[0;32m--> 701\u001b[0;31m     \u001b[0m_lib\u001b[0m\u001b[0;34m.\u001b[0m\u001b[0mPa_Sleep\u001b[0m\u001b[0;34m(\u001b[0m\u001b[0mmsec\u001b[0m\u001b[0;34m)\u001b[0m\u001b[0;34m\u001b[0m\u001b[0;34m\u001b[0m\u001b[0m\n\u001b[0m\u001b[1;32m    702\u001b[0m \u001b[0;34m\u001b[0m\u001b[0m\n\u001b[1;32m    703\u001b[0m \u001b[0;34m\u001b[0m\u001b[0m\n",
      "\u001b[0;31mKeyboardInterrupt\u001b[0m: "
     ]
    }
   ],
   "source": [
    "import sounddevice as sd\n",
    "import numpy as np\n",
    "import time\n",
    "from IPython.display import clear_output\n",
    "window = np.zeros((15000, 1))\n",
    "start_np = np.zeros(1)\n",
    "np_flag = np.array([False])\n",
    "    \n",
    "def callback(indata, frames, time, status):\n",
    "\n",
    "    \n",
    "    window[:5000,:] = window[5000:10000,:]\n",
    "    window[5000:10000,:] = window[10000:15000,:]\n",
    "    window[10000:15000,:] = indata\n",
    "\n",
    "    if np.max(indata) > 7000 and not np_flag[0]:\n",
    "        np_flag[0] = True\n",
    "        waveform = torch.tensor(window, dtype=torch.float32)\n",
    "        waveform = waveform.t() / torch.max(waveform)\n",
    "        fbank = torchaudio.compliance.kaldi.fbank(waveform, **params)\n",
    "        data = torch.zeros((80,24))\n",
    "        data[:fbank.shape[0],:] = fbank\n",
    "        data = data.view((80,1,24))\n",
    "        pred = model(data, src_mask)\n",
    "        pred_idx = torch.argmax(pred)\n",
    "        desired_labels = ['up', \"down\", \"left\", \"right\", \"unknown\"]\n",
    "        clear_output(wait=True)\n",
    "        print(desired_labels[pred_idx])\n",
    "    else:\n",
    "        np_flag[0] = False\n",
    "\n",
    "\n",
    "with sd.InputStream(channels=1, dtype='int16', blocksize=5000, samplerate=fs, callback=callback):\n",
    "    sd.sleep(1000000)\n"
   ]
  },
  {
   "cell_type": "code",
   "execution_count": null,
   "metadata": {},
   "outputs": [],
   "source": []
  }
 ],
 "metadata": {
  "kernelspec": {
   "display_name": "Python 3",
   "language": "python",
   "name": "python3"
  },
  "language_info": {
   "codemirror_mode": {
    "name": "ipython",
    "version": 3
   },
   "file_extension": ".py",
   "mimetype": "text/x-python",
   "name": "python",
   "nbconvert_exporter": "python",
   "pygments_lexer": "ipython3",
   "version": "3.9.1"
  }
 },
 "nbformat": 4,
 "nbformat_minor": 4
}
