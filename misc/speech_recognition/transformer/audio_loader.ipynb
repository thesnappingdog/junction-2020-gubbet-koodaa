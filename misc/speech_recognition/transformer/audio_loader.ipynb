{
 "cells": [
  {
   "cell_type": "code",
   "execution_count": 86,
   "metadata": {},
   "outputs": [],
   "source": [
    "from transformer_model import TransformerModel\n",
    "import torch"
   ]
  },
  {
   "cell_type": "code",
   "execution_count": 130,
   "metadata": {},
   "outputs": [],
   "source": [
    "filename1 = \"/Users/juliushietala/junction_2020/junction-2020-gubbet-koodaa/speech_recognition/test_audio/test.mp3\"\n",
    "filename2 = \"/Users/juliushietala/junction_2020/tensorflow-speech-recognition-challenge/train/audio/up/0a7c2a8d_nohash_0.wav\"\n",
    "waveform, sample_rate = torchaudio.load(filename1)\n",
    "\n",
    "downsample_rate=16000\n",
    "\n",
    "downsample_resample = torchaudio.transforms.Resample(\n",
    "    sample_rate, downsample_rate, resampling_method='sinc_interpolation')\n",
    "\n",
    "waveform = downsample_resample(waveform)\n",
    "n_fft = 400.0\n",
    "frame_length = n_fft / sample_rate * 1000.0\n",
    "frame_shift = frame_length / 2.0\n",
    "#hamming, hanning, povey (default), rectangular, blackman\n",
    "params = {\n",
    "    \"channel\": 0,\n",
    "    \"dither\": 0.0,\n",
    "    \"window_type\": \"hanning\",\n",
    "    \"frame_length\": frame_length,\n",
    "    \"frame_shift\": frame_shift,\n",
    "    \"remove_dc_offset\": True,\n",
    "    \"round_to_power_of_two\": True,\n",
    "    \"sample_frequency\": sample_rate,\n",
    "    \"num_mel_bins\": 24\n",
    "}\n",
    "fbank = torchaudio.compliance.kaldi.fbank(waveform, **params)"
   ]
  },
  {
   "cell_type": "code",
   "execution_count": 131,
   "metadata": {},
   "outputs": [
    {
     "name": "stdout",
     "output_type": "stream",
     "text": [
      "torch.Size([76, 24])\n"
     ]
    },
    {
     "data": {
      "image/png": "[encoded data removed]",
      "text/plain": [
       "<Figure size 432x288 with 1 Axes>"
      ]
     },
     "metadata": {
      "needs_background": "light"
     },
     "output_type": "display_data"
    }
   ],
   "source": [
    "print(fbank.size())\n",
    "plt.figure()\n",
    "plt.plot(waveform.t().numpy()[:,:]);"
   ]
  },
  {
   "cell_type": "code",
   "execution_count": 113,
   "metadata": {},
   "outputs": [
    {
     "data": {
      "image/png": "[encoded data removed]",
      "text/plain": [
       "<Figure size 432x288 with 1 Axes>"
      ]
     },
     "metadata": {
      "needs_background": "light"
     },
     "output_type": "display_data"
    }
   ],
   "source": [
    "plt.figure()\n",
    "split_form = waveform[:,30000:38000]\n",
    "split_form.shape\n",
    "plt.plot(split_form.numpy().T);"
   ]
  },
  {
   "cell_type": "code",
   "execution_count": 114,
   "metadata": {},
   "outputs": [
    {
     "ename": "AssertionError",
     "evalue": "choose a window size 400 that is [2, 0]",
     "output_type": "error",
     "traceback": [
      "\u001b[0;31m---------------------------------------------------------------------------\u001b[0m",
      "\u001b[0;31mAssertionError\u001b[0m                            Traceback (most recent call last)",
      "\u001b[0;32m<ipython-input-114-23429f4e184c>\u001b[0m in \u001b[0;36m<module>\u001b[0;34m\u001b[0m\n\u001b[0;32m----> 1\u001b[0;31m \u001b[0mfbank\u001b[0m \u001b[0;34m=\u001b[0m \u001b[0mtorchaudio\u001b[0m\u001b[0;34m.\u001b[0m\u001b[0mcompliance\u001b[0m\u001b[0;34m.\u001b[0m\u001b[0mkaldi\u001b[0m\u001b[0;34m.\u001b[0m\u001b[0mfbank\u001b[0m\u001b[0;34m(\u001b[0m\u001b[0msplit_form\u001b[0m\u001b[0;34m,\u001b[0m \u001b[0;34m**\u001b[0m\u001b[0mparams\u001b[0m\u001b[0;34m)\u001b[0m\u001b[0;34m\u001b[0m\u001b[0;34m\u001b[0m\u001b[0m\n\u001b[0m",
      "\u001b[0;32m~/junction_2020/j_env/lib/python3.7/site-packages/torchaudio/compliance/kaldi.py\u001b[0m in \u001b[0;36mfbank\u001b[0;34m(waveform, blackman_coeff, channel, dither, energy_floor, frame_length, frame_shift, high_freq, htk_compat, low_freq, min_duration, num_mel_bins, preemphasis_coefficient, raw_energy, remove_dc_offset, round_to_power_of_two, sample_frequency, snip_edges, subtract_mean, use_energy, use_log_fbank, use_power, vtln_high, vtln_low, vtln_warp, window_type)\u001b[0m\n\u001b[1;32m    560\u001b[0m \u001b[0;34m\u001b[0m\u001b[0m\n\u001b[1;32m    561\u001b[0m     waveform, window_shift, window_size, padded_window_size = _get_waveform_and_window_properties(\n\u001b[0;32m--> 562\u001b[0;31m         waveform, channel, sample_frequency, frame_shift, frame_length, round_to_power_of_two, preemphasis_coefficient)\n\u001b[0m\u001b[1;32m    563\u001b[0m \u001b[0;34m\u001b[0m\u001b[0m\n\u001b[1;32m    564\u001b[0m     \u001b[0;32mif\u001b[0m \u001b[0mlen\u001b[0m\u001b[0;34m(\u001b[0m\u001b[0mwaveform\u001b[0m\u001b[0;34m)\u001b[0m \u001b[0;34m<\u001b[0m \u001b[0mmin_duration\u001b[0m \u001b[0;34m*\u001b[0m \u001b[0msample_frequency\u001b[0m\u001b[0;34m:\u001b[0m\u001b[0;34m\u001b[0m\u001b[0;34m\u001b[0m\u001b[0m\n",
      "\u001b[0;32m~/junction_2020/j_env/lib/python3.7/site-packages/torchaudio/compliance/kaldi.py\u001b[0m in \u001b[0;36m_get_waveform_and_window_properties\u001b[0;34m(waveform, channel, sample_frequency, frame_shift, frame_length, round_to_power_of_two, preemphasis_coefficient)\u001b[0m\n\u001b[1;32m    144\u001b[0m     assert 2 <= window_size <= len(\n\u001b[1;32m    145\u001b[0m         \u001b[0mwaveform\u001b[0m\u001b[0;34m)\u001b[0m\u001b[0;34m,\u001b[0m \u001b[0;34m(\u001b[0m\u001b[0;34m'choose a window size {} that is [2, {}]'\u001b[0m\u001b[0;34m\u001b[0m\u001b[0;34m\u001b[0m\u001b[0m\n\u001b[0;32m--> 146\u001b[0;31m                     .format(window_size, len(waveform)))\n\u001b[0m\u001b[1;32m    147\u001b[0m     \u001b[0;32massert\u001b[0m \u001b[0;36m0\u001b[0m \u001b[0;34m<\u001b[0m \u001b[0mwindow_shift\u001b[0m\u001b[0;34m,\u001b[0m \u001b[0;34m'`window_shift` must be greater than 0'\u001b[0m\u001b[0;34m\u001b[0m\u001b[0;34m\u001b[0m\u001b[0m\n\u001b[1;32m    148\u001b[0m     \u001b[0;32massert\u001b[0m \u001b[0mpadded_window_size\u001b[0m \u001b[0;34m%\u001b[0m \u001b[0;36m2\u001b[0m \u001b[0;34m==\u001b[0m \u001b[0;36m0\u001b[0m\u001b[0;34m,\u001b[0m \u001b[0;34m'the padded `window_size` must be divisible by two.'\u001b[0m\u001b[0;31m \u001b[0m\u001b[0;31m\\\u001b[0m\u001b[0;34m\u001b[0m\u001b[0;34m\u001b[0m\u001b[0m\n",
      "\u001b[0;31mAssertionError\u001b[0m: choose a window size 400 that is [2, 0]"
     ]
    }
   ],
   "source": [
    "fbank = torchaudio.compliance.kaldi.fbank(split_form, **params)"
   ]
  },
  {
   "cell_type": "code",
   "execution_count": 115,
   "metadata": {},
   "outputs": [
    {
     "data": {
      "text/plain": [
       "torch.Size([79, 24])"
      ]
     },
     "execution_count": 115,
     "metadata": {},
     "output_type": "execute_result"
    }
   ],
   "source": [
    "fbank.size()"
   ]
  },
  {
   "cell_type": "code",
   "execution_count": 101,
   "metadata": {},
   "outputs": [],
   "source": [
    "#torchaudio.save('foo_save.wav', np_form, sample_rate) "
   ]
  },
  {
   "cell_type": "code",
   "execution_count": 102,
   "metadata": {},
   "outputs": [],
   "source": []
  },
  {
   "cell_type": "code",
   "execution_count": 103,
   "metadata": {},
   "outputs": [
    {
     "name": "stdout",
     "output_type": "stream",
     "text": [
      "tensor([[ 2.0890,  5.4309,  1.2932, -2.0529,  1.4956,  2.1633,  0.7760, -1.5124,\n",
      "         -2.1189,  1.2231]], grad_fn=<AddmmBackward>)\n",
      "tensor(1)\n"
     ]
    }
   ],
   "source": [
    "print(pred)\n",
    "print(torch.argmax(pred))"
   ]
  },
  {
   "cell_type": "code",
   "execution_count": 2,
   "metadata": {},
   "outputs": [],
   "source": [
    "import pandas as pd\n",
    "import os\n",
    "\n",
    "df = pd.DataFrame(columns=['index', 'path', 'label'])\n",
    "root = \"/Users/juliushietala/junction_2020/tensorflow-speech-recognition-challenge/train/audio/\"\n",
    "ignore = ['_background_noise_', '.DS_Store' ]\n",
    "desired_labels = ['up', 'down', 'left', 'right']\n",
    "n = 0\n",
    "labels = []\n",
    "limit_data = False\n",
    "for folder in os.listdir(root):\n",
    "    if not folder in ignore:\n",
    "        labels.append(folder)\n",
    "        noise = 0\n",
    "        for file in os.listdir(root+folder):\n",
    "            df = df.append({'index': n, 'path': folder+\"/\"+file, 'label': folder}, ignore_index=True)\n",
    "            n += 1\n",
    "            if not folder in desired_labels and limit_data:\n",
    "                print(\"added noise\", folder, noise)\n",
    "                noise +=1\n",
    "            if noise > 100 and limit_data:\n",
    "                noise = 0\n",
    "                break\n",
    "            \n"
   ]
  },
  {
   "cell_type": "code",
   "execution_count": 3,
   "metadata": {},
   "outputs": [
    {
     "data": {
      "text/html": [
       "<div>\n",
       "<style scoped>\n",
       "    .dataframe tbody tr th:only-of-type {\n",
       "        vertical-align: middle;\n",
       "    }\n",
       "\n",
       "    .dataframe tbody tr th {\n",
       "        vertical-align: top;\n",
       "    }\n",
       "\n",
       "    .dataframe thead th {\n",
       "        text-align: right;\n",
       "    }\n",
       "</style>\n",
       "<table border=\"1\" class=\"dataframe\">\n",
       "  <thead>\n",
       "    <tr style=\"text-align: right;\">\n",
       "      <th></th>\n",
       "      <th>index</th>\n",
       "      <th>path</th>\n",
       "      <th>label</th>\n",
       "    </tr>\n",
       "  </thead>\n",
       "  <tbody>\n",
       "    <tr>\n",
       "      <th>0</th>\n",
       "      <td>0</td>\n",
       "      <td>right/988e2f9a_nohash_0.wav</td>\n",
       "      <td>right</td>\n",
       "    </tr>\n",
       "    <tr>\n",
       "      <th>1</th>\n",
       "      <td>1</td>\n",
       "      <td>right/1eddce1d_nohash_3.wav</td>\n",
       "      <td>right</td>\n",
       "    </tr>\n",
       "    <tr>\n",
       "      <th>2</th>\n",
       "      <td>2</td>\n",
       "      <td>right/93ec8b84_nohash_0.wav</td>\n",
       "      <td>right</td>\n",
       "    </tr>\n",
       "    <tr>\n",
       "      <th>3</th>\n",
       "      <td>3</td>\n",
       "      <td>right/6272b231_nohash_1.wav</td>\n",
       "      <td>right</td>\n",
       "    </tr>\n",
       "    <tr>\n",
       "      <th>4</th>\n",
       "      <td>4</td>\n",
       "      <td>right/439c84f4_nohash_1.wav</td>\n",
       "      <td>right</td>\n",
       "    </tr>\n",
       "    <tr>\n",
       "      <th>...</th>\n",
       "      <td>...</td>\n",
       "      <td>...</td>\n",
       "      <td>...</td>\n",
       "    </tr>\n",
       "    <tr>\n",
       "      <th>64715</th>\n",
       "      <td>64715</td>\n",
       "      <td>four/333784b7_nohash_1.wav</td>\n",
       "      <td>four</td>\n",
       "    </tr>\n",
       "    <tr>\n",
       "      <th>64716</th>\n",
       "      <td>64716</td>\n",
       "      <td>four/93f30cc4_nohash_1.wav</td>\n",
       "      <td>four</td>\n",
       "    </tr>\n",
       "    <tr>\n",
       "      <th>64717</th>\n",
       "      <td>64717</td>\n",
       "      <td>four/0c40e715_nohash_0.wav</td>\n",
       "      <td>four</td>\n",
       "    </tr>\n",
       "    <tr>\n",
       "      <th>64718</th>\n",
       "      <td>64718</td>\n",
       "      <td>four/238c112c_nohash_0.wav</td>\n",
       "      <td>four</td>\n",
       "    </tr>\n",
       "    <tr>\n",
       "      <th>64719</th>\n",
       "      <td>64719</td>\n",
       "      <td>four/173ae793_nohash_1.wav</td>\n",
       "      <td>four</td>\n",
       "    </tr>\n",
       "  </tbody>\n",
       "</table>\n",
       "<p>64720 rows × 3 columns</p>\n",
       "</div>"
      ],
      "text/plain": [
       "       index                         path  label\n",
       "0          0  right/988e2f9a_nohash_0.wav  right\n",
       "1          1  right/1eddce1d_nohash_3.wav  right\n",
       "2          2  right/93ec8b84_nohash_0.wav  right\n",
       "3          3  right/6272b231_nohash_1.wav  right\n",
       "4          4  right/439c84f4_nohash_1.wav  right\n",
       "...      ...                          ...    ...\n",
       "64715  64715   four/333784b7_nohash_1.wav   four\n",
       "64716  64716   four/93f30cc4_nohash_1.wav   four\n",
       "64717  64717   four/0c40e715_nohash_0.wav   four\n",
       "64718  64718   four/238c112c_nohash_0.wav   four\n",
       "64719  64719   four/173ae793_nohash_1.wav   four\n",
       "\n",
       "[64720 rows x 3 columns]"
      ]
     },
     "execution_count": 3,
     "metadata": {},
     "output_type": "execute_result"
    }
   ],
   "source": [
    "df.head(-1)"
   ]
  },
  {
   "cell_type": "code",
   "execution_count": 4,
   "metadata": {},
   "outputs": [],
   "source": [
    "df.to_csv(\"train_data.csv\")"
   ]
  },
  {
   "cell_type": "code",
   "execution_count": null,
   "metadata": {},
   "outputs": [],
   "source": []
  }
 ],
 "metadata": {
  "kernelspec": {
   "display_name": "Python 3",
   "language": "python",
   "name": "python3"
  },
  "language_info": {
   "codemirror_mode": {
    "name": "ipython",
    "version": 3
   },
   "file_extension": ".py",
   "mimetype": "text/x-python",
   "name": "python",
   "nbconvert_exporter": "python",
   "pygments_lexer": "ipython3",
   "version": "3.7.7"
  }
 },
 "nbformat": 4,
 "nbformat_minor": 4
}
